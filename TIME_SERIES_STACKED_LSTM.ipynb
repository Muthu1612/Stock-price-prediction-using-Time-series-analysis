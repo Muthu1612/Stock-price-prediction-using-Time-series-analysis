{
  "nbformat": 4,
  "nbformat_minor": 0,
  "metadata": {
    "colab": {
      "name": "TIME_SERIES_STACKED_LSTM.ipynb",
      "provenance": [],
      "collapsed_sections": []
    },
    "kernelspec": {
      "name": "python3",
      "display_name": "Python 3"
    }
  },
  "cells": [
    {
      "cell_type": "code",
      "metadata": {
        "id": "ZT1f24vHffuf"
      },
      "source": [
        "import numpy as np\n",
        "import matplotlib.pyplot as plt\n",
        "import pandas as pd"
      ],
      "execution_count": 1,
      "outputs": []
    },
    {
      "cell_type": "code",
      "source": [
        "from google.colab import files\n",
        "uploaded = files.upload()"
      ],
      "metadata": {
        "colab": {
          "resources": {
            "http://localhost:8080/nbextensions/google.colab/files.js": {
              "data": "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",
              "ok": true,
              "headers": [
                [
                  "content-type",
                  "application/javascript"
                ]
              ],
              "status": 200,
              "status_text": ""
            }
          },
          "base_uri": "https://localhost:8080/",
          "height": 74
        },
        "id": "gPW2-0m4_3n2",
        "outputId": "a4b3d1f8-ee06-4e75-8589-cad34e558594"
      },
      "execution_count": 2,
      "outputs": [
        {
          "output_type": "display_data",
          "data": {
            "text/plain": [
              "<IPython.core.display.HTML object>"
            ],
            "text/html": [
              "\n",
              "     <input type=\"file\" id=\"files-c33fc47d-f379-4a43-adec-e8c93e045219\" name=\"files[]\" multiple disabled\n",
              "        style=\"border:none\" />\n",
              "     <output id=\"result-c33fc47d-f379-4a43-adec-e8c93e045219\">\n",
              "      Upload widget is only available when the cell has been executed in the\n",
              "      current browser session. Please rerun this cell to enable.\n",
              "      </output>\n",
              "      <script src=\"/nbextensions/google.colab/files.js\"></script> "
            ]
          },
          "metadata": {}
        },
        {
          "output_type": "stream",
          "name": "stdout",
          "text": [
            "Saving 005380.KS.csv to 005380.KS.csv\n"
          ]
        }
      ]
    },
    {
      "cell_type": "code",
      "source": [
        "import io\n",
        "import pandas as pd\n",
        "import numpy as np\n",
        "\n",
        "dataset_train = pd.read_csv(io.BytesIO(uploaded['005380.KS.csv']))\n",
        "df=dataset_train"
      ],
      "metadata": {
        "id": "7HkmAWFm_5PH"
      },
      "execution_count": 60,
      "outputs": []
    },
    {
      "cell_type": "code",
      "source": [
        "testing_set = df.iloc[1473:,:]\n",
        "training_set = df.iloc[:1473,:]\n"
      ],
      "metadata": {
        "id": "RwLgjESzdEnG"
      },
      "execution_count": 4,
      "outputs": []
    },
    {
      "cell_type": "code",
      "source": [
        "training_set.head(5)"
      ],
      "metadata": {
        "colab": {
          "base_uri": "https://localhost:8080/",
          "height": 206
        },
        "id": "V9SqY3-1ekpf",
        "outputId": "335223ac-8a0a-4ad8-e9e3-40a9d105e5cd"
      },
      "execution_count": 5,
      "outputs": [
        {
          "output_type": "execute_result",
          "data": {
            "text/plain": [
              "         Date      Open      High       Low     Close      Adj Close  Volume\n",
              "0  2016-01-04  147500.0  148000.0  143500.0  144000.0  122929.078125  445332\n",
              "1  2016-01-05  143000.0  145000.0  142000.0  143500.0  122502.265625  530496\n",
              "2  2016-01-06  144000.0  145000.0  139000.0  140000.0  119514.414063  769406\n",
              "3  2016-01-07  138500.0  140000.0  137500.0  137500.0  117380.226563  586187\n",
              "4  2016-01-08  134500.0  138000.0  133500.0  136500.0  116526.539063  888701"
            ],
            "text/html": [
              "\n",
              "  <div id=\"df-556506ab-afcf-451b-8ffb-1d6d010312e8\">\n",
              "    <div class=\"colab-df-container\">\n",
              "      <div>\n",
              "<style scoped>\n",
              "    .dataframe tbody tr th:only-of-type {\n",
              "        vertical-align: middle;\n",
              "    }\n",
              "\n",
              "    .dataframe tbody tr th {\n",
              "        vertical-align: top;\n",
              "    }\n",
              "\n",
              "    .dataframe thead th {\n",
              "        text-align: right;\n",
              "    }\n",
              "</style>\n",
              "<table border=\"1\" class=\"dataframe\">\n",
              "  <thead>\n",
              "    <tr style=\"text-align: right;\">\n",
              "      <th></th>\n",
              "      <th>Date</th>\n",
              "      <th>Open</th>\n",
              "      <th>High</th>\n",
              "      <th>Low</th>\n",
              "      <th>Close</th>\n",
              "      <th>Adj Close</th>\n",
              "      <th>Volume</th>\n",
              "    </tr>\n",
              "  </thead>\n",
              "  <tbody>\n",
              "    <tr>\n",
              "      <th>0</th>\n",
              "      <td>2016-01-04</td>\n",
              "      <td>147500.0</td>\n",
              "      <td>148000.0</td>\n",
              "      <td>143500.0</td>\n",
              "      <td>144000.0</td>\n",
              "      <td>122929.078125</td>\n",
              "      <td>445332</td>\n",
              "    </tr>\n",
              "    <tr>\n",
              "      <th>1</th>\n",
              "      <td>2016-01-05</td>\n",
              "      <td>143000.0</td>\n",
              "      <td>145000.0</td>\n",
              "      <td>142000.0</td>\n",
              "      <td>143500.0</td>\n",
              "      <td>122502.265625</td>\n",
              "      <td>530496</td>\n",
              "    </tr>\n",
              "    <tr>\n",
              "      <th>2</th>\n",
              "      <td>2016-01-06</td>\n",
              "      <td>144000.0</td>\n",
              "      <td>145000.0</td>\n",
              "      <td>139000.0</td>\n",
              "      <td>140000.0</td>\n",
              "      <td>119514.414063</td>\n",
              "      <td>769406</td>\n",
              "    </tr>\n",
              "    <tr>\n",
              "      <th>3</th>\n",
              "      <td>2016-01-07</td>\n",
              "      <td>138500.0</td>\n",
              "      <td>140000.0</td>\n",
              "      <td>137500.0</td>\n",
              "      <td>137500.0</td>\n",
              "      <td>117380.226563</td>\n",
              "      <td>586187</td>\n",
              "    </tr>\n",
              "    <tr>\n",
              "      <th>4</th>\n",
              "      <td>2016-01-08</td>\n",
              "      <td>134500.0</td>\n",
              "      <td>138000.0</td>\n",
              "      <td>133500.0</td>\n",
              "      <td>136500.0</td>\n",
              "      <td>116526.539063</td>\n",
              "      <td>888701</td>\n",
              "    </tr>\n",
              "  </tbody>\n",
              "</table>\n",
              "</div>\n",
              "      <button class=\"colab-df-convert\" onclick=\"convertToInteractive('df-556506ab-afcf-451b-8ffb-1d6d010312e8')\"\n",
              "              title=\"Convert this dataframe to an interactive table.\"\n",
              "              style=\"display:none;\">\n",
              "        \n",
              "  <svg xmlns=\"http://www.w3.org/2000/svg\" height=\"24px\"viewBox=\"0 0 24 24\"\n",
              "       width=\"24px\">\n",
              "    <path d=\"M0 0h24v24H0V0z\" fill=\"none\"/>\n",
              "    <path d=\"M18.56 5.44l.94 2.06.94-2.06 2.06-.94-2.06-.94-.94-2.06-.94 2.06-2.06.94zm-11 1L8.5 8.5l.94-2.06 2.06-.94-2.06-.94L8.5 2.5l-.94 2.06-2.06.94zm10 10l.94 2.06.94-2.06 2.06-.94-2.06-.94-.94-2.06-.94 2.06-2.06.94z\"/><path d=\"M17.41 7.96l-1.37-1.37c-.4-.4-.92-.59-1.43-.59-.52 0-1.04.2-1.43.59L10.3 9.45l-7.72 7.72c-.78.78-.78 2.05 0 2.83L4 21.41c.39.39.9.59 1.41.59.51 0 1.02-.2 1.41-.59l7.78-7.78 2.81-2.81c.8-.78.8-2.07 0-2.86zM5.41 20L4 18.59l7.72-7.72 1.47 1.35L5.41 20z\"/>\n",
              "  </svg>\n",
              "      </button>\n",
              "      \n",
              "  <style>\n",
              "    .colab-df-container {\n",
              "      display:flex;\n",
              "      flex-wrap:wrap;\n",
              "      gap: 12px;\n",
              "    }\n",
              "\n",
              "    .colab-df-convert {\n",
              "      background-color: #E8F0FE;\n",
              "      border: none;\n",
              "      border-radius: 50%;\n",
              "      cursor: pointer;\n",
              "      display: none;\n",
              "      fill: #1967D2;\n",
              "      height: 32px;\n",
              "      padding: 0 0 0 0;\n",
              "      width: 32px;\n",
              "    }\n",
              "\n",
              "    .colab-df-convert:hover {\n",
              "      background-color: #E2EBFA;\n",
              "      box-shadow: 0px 1px 2px rgba(60, 64, 67, 0.3), 0px 1px 3px 1px rgba(60, 64, 67, 0.15);\n",
              "      fill: #174EA6;\n",
              "    }\n",
              "\n",
              "    [theme=dark] .colab-df-convert {\n",
              "      background-color: #3B4455;\n",
              "      fill: #D2E3FC;\n",
              "    }\n",
              "\n",
              "    [theme=dark] .colab-df-convert:hover {\n",
              "      background-color: #434B5C;\n",
              "      box-shadow: 0px 1px 3px 1px rgba(0, 0, 0, 0.15);\n",
              "      filter: drop-shadow(0px 1px 2px rgba(0, 0, 0, 0.3));\n",
              "      fill: #FFFFFF;\n",
              "    }\n",
              "  </style>\n",
              "\n",
              "      <script>\n",
              "        const buttonEl =\n",
              "          document.querySelector('#df-556506ab-afcf-451b-8ffb-1d6d010312e8 button.colab-df-convert');\n",
              "        buttonEl.style.display =\n",
              "          google.colab.kernel.accessAllowed ? 'block' : 'none';\n",
              "\n",
              "        async function convertToInteractive(key) {\n",
              "          const element = document.querySelector('#df-556506ab-afcf-451b-8ffb-1d6d010312e8');\n",
              "          const dataTable =\n",
              "            await google.colab.kernel.invokeFunction('convertToInteractive',\n",
              "                                                     [key], {});\n",
              "          if (!dataTable) return;\n",
              "\n",
              "          const docLinkHtml = 'Like what you see? Visit the ' +\n",
              "            '<a target=\"_blank\" href=https://colab.research.google.com/notebooks/data_table.ipynb>data table notebook</a>'\n",
              "            + ' to learn more about interactive tables.';\n",
              "          element.innerHTML = '';\n",
              "          dataTable['output_type'] = 'display_data';\n",
              "          await google.colab.output.renderOutput(dataTable, element);\n",
              "          const docLink = document.createElement('div');\n",
              "          docLink.innerHTML = docLinkHtml;\n",
              "          element.appendChild(docLink);\n",
              "        }\n",
              "      </script>\n",
              "    </div>\n",
              "  </div>\n",
              "  "
            ]
          },
          "metadata": {},
          "execution_count": 5
        }
      ]
    },
    {
      "cell_type": "code",
      "source": [
        "training_set.tail(5)"
      ],
      "metadata": {
        "colab": {
          "base_uri": "https://localhost:8080/",
          "height": 206
        },
        "id": "DPW_-1i2eEM2",
        "outputId": "93d2c0bf-a43c-49cb-90b5-f156cfc54803"
      },
      "execution_count": 6,
      "outputs": [
        {
          "output_type": "execute_result",
          "data": {
            "text/plain": [
              "            Date      Open      High       Low     Close      Adj Close  \\\n",
              "1468  2021-12-24  210500.0  216500.0  210500.0  215500.0  211471.953125   \n",
              "1469  2021-12-27  216500.0  217000.0  213500.0  213500.0  209509.343750   \n",
              "1470  2021-12-28  215000.0  215000.0  211500.0  214000.0  210000.000000   \n",
              "1471  2021-12-29  213000.0  215000.0  211500.0  212000.0  212000.000000   \n",
              "1472  2021-12-30  211500.0  212000.0  208500.0  209000.0  209000.000000   \n",
              "\n",
              "       Volume  \n",
              "1468  1024355  \n",
              "1469   530039  \n",
              "1470   880326  \n",
              "1471   659392  \n",
              "1472   581448  "
            ],
            "text/html": [
              "\n",
              "  <div id=\"df-84bb5707-5d48-401e-abb9-c488632aff0a\">\n",
              "    <div class=\"colab-df-container\">\n",
              "      <div>\n",
              "<style scoped>\n",
              "    .dataframe tbody tr th:only-of-type {\n",
              "        vertical-align: middle;\n",
              "    }\n",
              "\n",
              "    .dataframe tbody tr th {\n",
              "        vertical-align: top;\n",
              "    }\n",
              "\n",
              "    .dataframe thead th {\n",
              "        text-align: right;\n",
              "    }\n",
              "</style>\n",
              "<table border=\"1\" class=\"dataframe\">\n",
              "  <thead>\n",
              "    <tr style=\"text-align: right;\">\n",
              "      <th></th>\n",
              "      <th>Date</th>\n",
              "      <th>Open</th>\n",
              "      <th>High</th>\n",
              "      <th>Low</th>\n",
              "      <th>Close</th>\n",
              "      <th>Adj Close</th>\n",
              "      <th>Volume</th>\n",
              "    </tr>\n",
              "  </thead>\n",
              "  <tbody>\n",
              "    <tr>\n",
              "      <th>1468</th>\n",
              "      <td>2021-12-24</td>\n",
              "      <td>210500.0</td>\n",
              "      <td>216500.0</td>\n",
              "      <td>210500.0</td>\n",
              "      <td>215500.0</td>\n",
              "      <td>211471.953125</td>\n",
              "      <td>1024355</td>\n",
              "    </tr>\n",
              "    <tr>\n",
              "      <th>1469</th>\n",
              "      <td>2021-12-27</td>\n",
              "      <td>216500.0</td>\n",
              "      <td>217000.0</td>\n",
              "      <td>213500.0</td>\n",
              "      <td>213500.0</td>\n",
              "      <td>209509.343750</td>\n",
              "      <td>530039</td>\n",
              "    </tr>\n",
              "    <tr>\n",
              "      <th>1470</th>\n",
              "      <td>2021-12-28</td>\n",
              "      <td>215000.0</td>\n",
              "      <td>215000.0</td>\n",
              "      <td>211500.0</td>\n",
              "      <td>214000.0</td>\n",
              "      <td>210000.000000</td>\n",
              "      <td>880326</td>\n",
              "    </tr>\n",
              "    <tr>\n",
              "      <th>1471</th>\n",
              "      <td>2021-12-29</td>\n",
              "      <td>213000.0</td>\n",
              "      <td>215000.0</td>\n",
              "      <td>211500.0</td>\n",
              "      <td>212000.0</td>\n",
              "      <td>212000.000000</td>\n",
              "      <td>659392</td>\n",
              "    </tr>\n",
              "    <tr>\n",
              "      <th>1472</th>\n",
              "      <td>2021-12-30</td>\n",
              "      <td>211500.0</td>\n",
              "      <td>212000.0</td>\n",
              "      <td>208500.0</td>\n",
              "      <td>209000.0</td>\n",
              "      <td>209000.000000</td>\n",
              "      <td>581448</td>\n",
              "    </tr>\n",
              "  </tbody>\n",
              "</table>\n",
              "</div>\n",
              "      <button class=\"colab-df-convert\" onclick=\"convertToInteractive('df-84bb5707-5d48-401e-abb9-c488632aff0a')\"\n",
              "              title=\"Convert this dataframe to an interactive table.\"\n",
              "              style=\"display:none;\">\n",
              "        \n",
              "  <svg xmlns=\"http://www.w3.org/2000/svg\" height=\"24px\"viewBox=\"0 0 24 24\"\n",
              "       width=\"24px\">\n",
              "    <path d=\"M0 0h24v24H0V0z\" fill=\"none\"/>\n",
              "    <path d=\"M18.56 5.44l.94 2.06.94-2.06 2.06-.94-2.06-.94-.94-2.06-.94 2.06-2.06.94zm-11 1L8.5 8.5l.94-2.06 2.06-.94-2.06-.94L8.5 2.5l-.94 2.06-2.06.94zm10 10l.94 2.06.94-2.06 2.06-.94-2.06-.94-.94-2.06-.94 2.06-2.06.94z\"/><path d=\"M17.41 7.96l-1.37-1.37c-.4-.4-.92-.59-1.43-.59-.52 0-1.04.2-1.43.59L10.3 9.45l-7.72 7.72c-.78.78-.78 2.05 0 2.83L4 21.41c.39.39.9.59 1.41.59.51 0 1.02-.2 1.41-.59l7.78-7.78 2.81-2.81c.8-.78.8-2.07 0-2.86zM5.41 20L4 18.59l7.72-7.72 1.47 1.35L5.41 20z\"/>\n",
              "  </svg>\n",
              "      </button>\n",
              "      \n",
              "  <style>\n",
              "    .colab-df-container {\n",
              "      display:flex;\n",
              "      flex-wrap:wrap;\n",
              "      gap: 12px;\n",
              "    }\n",
              "\n",
              "    .colab-df-convert {\n",
              "      background-color: #E8F0FE;\n",
              "      border: none;\n",
              "      border-radius: 50%;\n",
              "      cursor: pointer;\n",
              "      display: none;\n",
              "      fill: #1967D2;\n",
              "      height: 32px;\n",
              "      padding: 0 0 0 0;\n",
              "      width: 32px;\n",
              "    }\n",
              "\n",
              "    .colab-df-convert:hover {\n",
              "      background-color: #E2EBFA;\n",
              "      box-shadow: 0px 1px 2px rgba(60, 64, 67, 0.3), 0px 1px 3px 1px rgba(60, 64, 67, 0.15);\n",
              "      fill: #174EA6;\n",
              "    }\n",
              "\n",
              "    [theme=dark] .colab-df-convert {\n",
              "      background-color: #3B4455;\n",
              "      fill: #D2E3FC;\n",
              "    }\n",
              "\n",
              "    [theme=dark] .colab-df-convert:hover {\n",
              "      background-color: #434B5C;\n",
              "      box-shadow: 0px 1px 3px 1px rgba(0, 0, 0, 0.15);\n",
              "      filter: drop-shadow(0px 1px 2px rgba(0, 0, 0, 0.3));\n",
              "      fill: #FFFFFF;\n",
              "    }\n",
              "  </style>\n",
              "\n",
              "      <script>\n",
              "        const buttonEl =\n",
              "          document.querySelector('#df-84bb5707-5d48-401e-abb9-c488632aff0a button.colab-df-convert');\n",
              "        buttonEl.style.display =\n",
              "          google.colab.kernel.accessAllowed ? 'block' : 'none';\n",
              "\n",
              "        async function convertToInteractive(key) {\n",
              "          const element = document.querySelector('#df-84bb5707-5d48-401e-abb9-c488632aff0a');\n",
              "          const dataTable =\n",
              "            await google.colab.kernel.invokeFunction('convertToInteractive',\n",
              "                                                     [key], {});\n",
              "          if (!dataTable) return;\n",
              "\n",
              "          const docLinkHtml = 'Like what you see? Visit the ' +\n",
              "            '<a target=\"_blank\" href=https://colab.research.google.com/notebooks/data_table.ipynb>data table notebook</a>'\n",
              "            + ' to learn more about interactive tables.';\n",
              "          element.innerHTML = '';\n",
              "          dataTable['output_type'] = 'display_data';\n",
              "          await google.colab.output.renderOutput(dataTable, element);\n",
              "          const docLink = document.createElement('div');\n",
              "          docLink.innerHTML = docLinkHtml;\n",
              "          element.appendChild(docLink);\n",
              "        }\n",
              "      </script>\n",
              "    </div>\n",
              "  </div>\n",
              "  "
            ]
          },
          "metadata": {},
          "execution_count": 6
        }
      ]
    },
    {
      "cell_type": "code",
      "source": [
        "testing_set.head(5)"
      ],
      "metadata": {
        "colab": {
          "base_uri": "https://localhost:8080/",
          "height": 206
        },
        "id": "yWSAkx4udW_v",
        "outputId": "a2423291-4661-475a-c996-256239992e3d"
      },
      "execution_count": 7,
      "outputs": [
        {
          "output_type": "execute_result",
          "data": {
            "text/plain": [
              "            Date      Open      High       Low     Close  Adj Close   Volume\n",
              "1473  2022-01-04  212500.0  212500.0  208500.0  210000.0   210000.0   499857\n",
              "1474  2022-01-05  214000.0  217500.0  212000.0  213500.0   213500.0  1175411\n",
              "1475  2022-01-06  210000.0  216500.0  210000.0  214000.0   214000.0   866582\n",
              "1476  2022-01-07  214500.0  216500.0  213500.0  215000.0   215000.0   577852\n",
              "1477  2022-01-10  214000.0  215000.0  209000.0  209500.0   209500.0   744261"
            ],
            "text/html": [
              "\n",
              "  <div id=\"df-f8e5ce0d-1889-45bc-b785-6cbff2f4f553\">\n",
              "    <div class=\"colab-df-container\">\n",
              "      <div>\n",
              "<style scoped>\n",
              "    .dataframe tbody tr th:only-of-type {\n",
              "        vertical-align: middle;\n",
              "    }\n",
              "\n",
              "    .dataframe tbody tr th {\n",
              "        vertical-align: top;\n",
              "    }\n",
              "\n",
              "    .dataframe thead th {\n",
              "        text-align: right;\n",
              "    }\n",
              "</style>\n",
              "<table border=\"1\" class=\"dataframe\">\n",
              "  <thead>\n",
              "    <tr style=\"text-align: right;\">\n",
              "      <th></th>\n",
              "      <th>Date</th>\n",
              "      <th>Open</th>\n",
              "      <th>High</th>\n",
              "      <th>Low</th>\n",
              "      <th>Close</th>\n",
              "      <th>Adj Close</th>\n",
              "      <th>Volume</th>\n",
              "    </tr>\n",
              "  </thead>\n",
              "  <tbody>\n",
              "    <tr>\n",
              "      <th>1473</th>\n",
              "      <td>2022-01-04</td>\n",
              "      <td>212500.0</td>\n",
              "      <td>212500.0</td>\n",
              "      <td>208500.0</td>\n",
              "      <td>210000.0</td>\n",
              "      <td>210000.0</td>\n",
              "      <td>499857</td>\n",
              "    </tr>\n",
              "    <tr>\n",
              "      <th>1474</th>\n",
              "      <td>2022-01-05</td>\n",
              "      <td>214000.0</td>\n",
              "      <td>217500.0</td>\n",
              "      <td>212000.0</td>\n",
              "      <td>213500.0</td>\n",
              "      <td>213500.0</td>\n",
              "      <td>1175411</td>\n",
              "    </tr>\n",
              "    <tr>\n",
              "      <th>1475</th>\n",
              "      <td>2022-01-06</td>\n",
              "      <td>210000.0</td>\n",
              "      <td>216500.0</td>\n",
              "      <td>210000.0</td>\n",
              "      <td>214000.0</td>\n",
              "      <td>214000.0</td>\n",
              "      <td>866582</td>\n",
              "    </tr>\n",
              "    <tr>\n",
              "      <th>1476</th>\n",
              "      <td>2022-01-07</td>\n",
              "      <td>214500.0</td>\n",
              "      <td>216500.0</td>\n",
              "      <td>213500.0</td>\n",
              "      <td>215000.0</td>\n",
              "      <td>215000.0</td>\n",
              "      <td>577852</td>\n",
              "    </tr>\n",
              "    <tr>\n",
              "      <th>1477</th>\n",
              "      <td>2022-01-10</td>\n",
              "      <td>214000.0</td>\n",
              "      <td>215000.0</td>\n",
              "      <td>209000.0</td>\n",
              "      <td>209500.0</td>\n",
              "      <td>209500.0</td>\n",
              "      <td>744261</td>\n",
              "    </tr>\n",
              "  </tbody>\n",
              "</table>\n",
              "</div>\n",
              "      <button class=\"colab-df-convert\" onclick=\"convertToInteractive('df-f8e5ce0d-1889-45bc-b785-6cbff2f4f553')\"\n",
              "              title=\"Convert this dataframe to an interactive table.\"\n",
              "              style=\"display:none;\">\n",
              "        \n",
              "  <svg xmlns=\"http://www.w3.org/2000/svg\" height=\"24px\"viewBox=\"0 0 24 24\"\n",
              "       width=\"24px\">\n",
              "    <path d=\"M0 0h24v24H0V0z\" fill=\"none\"/>\n",
              "    <path d=\"M18.56 5.44l.94 2.06.94-2.06 2.06-.94-2.06-.94-.94-2.06-.94 2.06-2.06.94zm-11 1L8.5 8.5l.94-2.06 2.06-.94-2.06-.94L8.5 2.5l-.94 2.06-2.06.94zm10 10l.94 2.06.94-2.06 2.06-.94-2.06-.94-.94-2.06-.94 2.06-2.06.94z\"/><path d=\"M17.41 7.96l-1.37-1.37c-.4-.4-.92-.59-1.43-.59-.52 0-1.04.2-1.43.59L10.3 9.45l-7.72 7.72c-.78.78-.78 2.05 0 2.83L4 21.41c.39.39.9.59 1.41.59.51 0 1.02-.2 1.41-.59l7.78-7.78 2.81-2.81c.8-.78.8-2.07 0-2.86zM5.41 20L4 18.59l7.72-7.72 1.47 1.35L5.41 20z\"/>\n",
              "  </svg>\n",
              "      </button>\n",
              "      \n",
              "  <style>\n",
              "    .colab-df-container {\n",
              "      display:flex;\n",
              "      flex-wrap:wrap;\n",
              "      gap: 12px;\n",
              "    }\n",
              "\n",
              "    .colab-df-convert {\n",
              "      background-color: #E8F0FE;\n",
              "      border: none;\n",
              "      border-radius: 50%;\n",
              "      cursor: pointer;\n",
              "      display: none;\n",
              "      fill: #1967D2;\n",
              "      height: 32px;\n",
              "      padding: 0 0 0 0;\n",
              "      width: 32px;\n",
              "    }\n",
              "\n",
              "    .colab-df-convert:hover {\n",
              "      background-color: #E2EBFA;\n",
              "      box-shadow: 0px 1px 2px rgba(60, 64, 67, 0.3), 0px 1px 3px 1px rgba(60, 64, 67, 0.15);\n",
              "      fill: #174EA6;\n",
              "    }\n",
              "\n",
              "    [theme=dark] .colab-df-convert {\n",
              "      background-color: #3B4455;\n",
              "      fill: #D2E3FC;\n",
              "    }\n",
              "\n",
              "    [theme=dark] .colab-df-convert:hover {\n",
              "      background-color: #434B5C;\n",
              "      box-shadow: 0px 1px 3px 1px rgba(0, 0, 0, 0.15);\n",
              "      filter: drop-shadow(0px 1px 2px rgba(0, 0, 0, 0.3));\n",
              "      fill: #FFFFFF;\n",
              "    }\n",
              "  </style>\n",
              "\n",
              "      <script>\n",
              "        const buttonEl =\n",
              "          document.querySelector('#df-f8e5ce0d-1889-45bc-b785-6cbff2f4f553 button.colab-df-convert');\n",
              "        buttonEl.style.display =\n",
              "          google.colab.kernel.accessAllowed ? 'block' : 'none';\n",
              "\n",
              "        async function convertToInteractive(key) {\n",
              "          const element = document.querySelector('#df-f8e5ce0d-1889-45bc-b785-6cbff2f4f553');\n",
              "          const dataTable =\n",
              "            await google.colab.kernel.invokeFunction('convertToInteractive',\n",
              "                                                     [key], {});\n",
              "          if (!dataTable) return;\n",
              "\n",
              "          const docLinkHtml = 'Like what you see? Visit the ' +\n",
              "            '<a target=\"_blank\" href=https://colab.research.google.com/notebooks/data_table.ipynb>data table notebook</a>'\n",
              "            + ' to learn more about interactive tables.';\n",
              "          element.innerHTML = '';\n",
              "          dataTable['output_type'] = 'display_data';\n",
              "          await google.colab.output.renderOutput(dataTable, element);\n",
              "          const docLink = document.createElement('div');\n",
              "          docLink.innerHTML = docLinkHtml;\n",
              "          element.appendChild(docLink);\n",
              "        }\n",
              "      </script>\n",
              "    </div>\n",
              "  </div>\n",
              "  "
            ]
          },
          "metadata": {},
          "execution_count": 7
        }
      ]
    },
    {
      "cell_type": "code",
      "source": [
        "training_set=training_set.iloc[:,2:3].values"
      ],
      "metadata": {
        "id": "GpjFtc_cEqR2"
      },
      "execution_count": 8,
      "outputs": []
    },
    {
      "cell_type": "code",
      "source": [
        "testing_set=testing_set.iloc[:,2:3].values"
      ],
      "metadata": {
        "id": "x5kJisXHesiX"
      },
      "execution_count": 9,
      "outputs": []
    },
    {
      "cell_type": "code",
      "metadata": {
        "id": "OTrF2kR7gx9x"
      },
      "source": [
        "from sklearn.preprocessing import MinMaxScaler\n",
        "sc = MinMaxScaler(feature_range = (0, 1))\n",
        "training_set_scaled = sc.fit_transform(training_set)"
      ],
      "execution_count": 11,
      "outputs": []
    },
    {
      "cell_type": "code",
      "metadata": {
        "id": "iofU21B0i6ST"
      },
      "source": [
        "X_train = []\n",
        "y_train = []\n",
        "for i in range(60, 1473):\n",
        "    X_train.append(training_set_scaled[i-60:i, 0])\n",
        "    y_train.append(training_set_scaled[i, 0])\n",
        "X_train, y_train = np.array(X_train), np.array(y_train)"
      ],
      "execution_count": 12,
      "outputs": []
    },
    {
      "cell_type": "code",
      "metadata": {
        "id": "FOXqJHmNjBkz"
      },
      "source": [
        "X_train = np.reshape(X_train, (X_train.shape[0], X_train.shape[1], 1))"
      ],
      "execution_count": 13,
      "outputs": []
    },
    {
      "cell_type": "code",
      "metadata": {
        "id": "9JRnqsxEjKsD"
      },
      "source": [
        "from keras.models import Sequential\n",
        "from keras.layers import Dense\n",
        "from keras.layers import LSTM\n",
        "from keras.layers import Dropout"
      ],
      "execution_count": 14,
      "outputs": []
    },
    {
      "cell_type": "code",
      "metadata": {
        "id": "1338dJ0UjRKH"
      },
      "source": [
        "regressor = Sequential()"
      ],
      "execution_count": 15,
      "outputs": []
    },
    {
      "cell_type": "code",
      "metadata": {
        "id": "2hIinyXUjbVU"
      },
      "source": [
        "regressor.add(LSTM(units = 50, return_sequences = True, input_shape = (X_train.shape[1], 1)))\n",
        "regressor.add(Dropout(0.2))"
      ],
      "execution_count": 16,
      "outputs": []
    },
    {
      "cell_type": "code",
      "metadata": {
        "id": "UG7nrVaSjuZ2"
      },
      "source": [
        "regressor.add(LSTM(units = 50, return_sequences = True))\n",
        "regressor.add(Dropout(0.2))"
      ],
      "execution_count": 17,
      "outputs": []
    },
    {
      "cell_type": "code",
      "metadata": {
        "id": "PuNi6PgFj7jO"
      },
      "source": [
        "regressor.add(LSTM(units = 50, return_sequences = True))\n",
        "regressor.add(Dropout(0.2))"
      ],
      "execution_count": 18,
      "outputs": []
    },
    {
      "cell_type": "code",
      "metadata": {
        "id": "Jp4Ty8fRkBYV"
      },
      "source": [
        "regressor.add(LSTM(units = 50))\n",
        "regressor.add(Dropout(0.2))"
      ],
      "execution_count": 19,
      "outputs": []
    },
    {
      "cell_type": "code",
      "metadata": {
        "id": "aM6R1z4WkME8"
      },
      "source": [
        "regressor.add(Dense(units = 1))"
      ],
      "execution_count": 20,
      "outputs": []
    },
    {
      "cell_type": "code",
      "metadata": {
        "id": "XTrhVN-tkbko"
      },
      "source": [
        "regressor.compile(optimizer = 'adam', loss = 'mean_squared_error')"
      ],
      "execution_count": 21,
      "outputs": []
    },
    {
      "cell_type": "code",
      "metadata": {
        "id": "I06Nkrz5kkb-",
        "colab": {
          "base_uri": "https://localhost:8080/"
        },
        "outputId": "43bf7857-cc4e-48cc-ad30-90a02659acd8"
      },
      "source": [
        "regressor.fit(X_train, y_train, epochs = 100, batch_size = 32)"
      ],
      "execution_count": 22,
      "outputs": [
        {
          "output_type": "stream",
          "name": "stdout",
          "text": [
            "Epoch 1/100\n",
            "45/45 [==============================] - 12s 114ms/step - loss: 0.0217\n",
            "Epoch 2/100\n",
            "45/45 [==============================] - 6s 138ms/step - loss: 0.0049\n",
            "Epoch 3/100\n",
            "45/45 [==============================] - 8s 187ms/step - loss: 0.0044\n",
            "Epoch 4/100\n",
            "45/45 [==============================] - 5s 115ms/step - loss: 0.0037\n",
            "Epoch 5/100\n",
            "45/45 [==============================] - 5s 114ms/step - loss: 0.0037\n",
            "Epoch 6/100\n",
            "45/45 [==============================] - 5s 113ms/step - loss: 0.0043\n",
            "Epoch 7/100\n",
            "45/45 [==============================] - 5s 113ms/step - loss: 0.0037\n",
            "Epoch 8/100\n",
            "45/45 [==============================] - 5s 113ms/step - loss: 0.0032\n",
            "Epoch 9/100\n",
            "45/45 [==============================] - 5s 112ms/step - loss: 0.0031\n",
            "Epoch 10/100\n",
            "45/45 [==============================] - 5s 112ms/step - loss: 0.0029\n",
            "Epoch 11/100\n",
            "45/45 [==============================] - 5s 112ms/step - loss: 0.0029\n",
            "Epoch 12/100\n",
            "45/45 [==============================] - 5s 114ms/step - loss: 0.0027\n",
            "Epoch 13/100\n",
            "45/45 [==============================] - 6s 135ms/step - loss: 0.0025\n",
            "Epoch 14/100\n",
            "45/45 [==============================] - 5s 113ms/step - loss: 0.0029\n",
            "Epoch 15/100\n",
            "45/45 [==============================] - 5s 113ms/step - loss: 0.0026\n",
            "Epoch 16/100\n",
            "45/45 [==============================] - 5s 115ms/step - loss: 0.0025\n",
            "Epoch 17/100\n",
            "45/45 [==============================] - 5s 113ms/step - loss: 0.0026\n",
            "Epoch 18/100\n",
            "45/45 [==============================] - 5s 115ms/step - loss: 0.0025\n",
            "Epoch 19/100\n",
            "45/45 [==============================] - 5s 113ms/step - loss: 0.0022\n",
            "Epoch 20/100\n",
            "45/45 [==============================] - 5s 112ms/step - loss: 0.0022\n",
            "Epoch 21/100\n",
            "45/45 [==============================] - 5s 112ms/step - loss: 0.0027\n",
            "Epoch 22/100\n",
            "45/45 [==============================] - 5s 113ms/step - loss: 0.0020\n",
            "Epoch 23/100\n",
            "45/45 [==============================] - 5s 115ms/step - loss: 0.0021\n",
            "Epoch 24/100\n",
            "45/45 [==============================] - 5s 114ms/step - loss: 0.0021\n",
            "Epoch 25/100\n",
            "45/45 [==============================] - 5s 113ms/step - loss: 0.0022\n",
            "Epoch 26/100\n",
            "45/45 [==============================] - 5s 114ms/step - loss: 0.0020\n",
            "Epoch 27/100\n",
            "45/45 [==============================] - 5s 114ms/step - loss: 0.0019\n",
            "Epoch 28/100\n",
            "45/45 [==============================] - 5s 114ms/step - loss: 0.0018\n",
            "Epoch 29/100\n",
            "45/45 [==============================] - 5s 113ms/step - loss: 0.0017\n",
            "Epoch 30/100\n",
            "45/45 [==============================] - 5s 115ms/step - loss: 0.0015\n",
            "Epoch 31/100\n",
            "45/45 [==============================] - 5s 112ms/step - loss: 0.0017\n",
            "Epoch 32/100\n",
            "45/45 [==============================] - 5s 116ms/step - loss: 0.0016\n",
            "Epoch 33/100\n",
            "45/45 [==============================] - 5s 114ms/step - loss: 0.0017\n",
            "Epoch 34/100\n",
            "45/45 [==============================] - 5s 113ms/step - loss: 0.0019\n",
            "Epoch 35/100\n",
            "45/45 [==============================] - 5s 114ms/step - loss: 0.0017\n",
            "Epoch 36/100\n",
            "45/45 [==============================] - 5s 115ms/step - loss: 0.0016\n",
            "Epoch 37/100\n",
            "45/45 [==============================] - 5s 113ms/step - loss: 0.0016\n",
            "Epoch 38/100\n",
            "45/45 [==============================] - 5s 114ms/step - loss: 0.0014\n",
            "Epoch 39/100\n",
            "45/45 [==============================] - 5s 114ms/step - loss: 0.0015\n",
            "Epoch 40/100\n",
            "45/45 [==============================] - 6s 134ms/step - loss: 0.0013\n",
            "Epoch 41/100\n",
            "45/45 [==============================] - 5s 113ms/step - loss: 0.0026\n",
            "Epoch 42/100\n",
            "45/45 [==============================] - 5s 114ms/step - loss: 0.0015\n",
            "Epoch 43/100\n",
            "45/45 [==============================] - 5s 112ms/step - loss: 0.0013\n",
            "Epoch 44/100\n",
            "45/45 [==============================] - 5s 114ms/step - loss: 0.0020\n",
            "Epoch 45/100\n",
            "45/45 [==============================] - 5s 112ms/step - loss: 0.0013\n",
            "Epoch 46/100\n",
            "45/45 [==============================] - 5s 113ms/step - loss: 0.0013\n",
            "Epoch 47/100\n",
            "45/45 [==============================] - 5s 114ms/step - loss: 0.0014\n",
            "Epoch 48/100\n",
            "45/45 [==============================] - 5s 115ms/step - loss: 0.0013\n",
            "Epoch 49/100\n",
            "45/45 [==============================] - 5s 114ms/step - loss: 0.0013\n",
            "Epoch 50/100\n",
            "45/45 [==============================] - 5s 115ms/step - loss: 0.0014\n",
            "Epoch 51/100\n",
            "45/45 [==============================] - 5s 114ms/step - loss: 0.0012\n",
            "Epoch 52/100\n",
            "45/45 [==============================] - 5s 114ms/step - loss: 0.0012\n",
            "Epoch 53/100\n",
            "45/45 [==============================] - 5s 115ms/step - loss: 0.0014\n",
            "Epoch 54/100\n",
            "45/45 [==============================] - 5s 114ms/step - loss: 0.0012\n",
            "Epoch 55/100\n",
            "45/45 [==============================] - 5s 114ms/step - loss: 0.0012\n",
            "Epoch 56/100\n",
            "45/45 [==============================] - 5s 114ms/step - loss: 0.0011\n",
            "Epoch 57/100\n",
            "45/45 [==============================] - 5s 114ms/step - loss: 0.0011\n",
            "Epoch 58/100\n",
            "45/45 [==============================] - 5s 113ms/step - loss: 0.0012\n",
            "Epoch 59/100\n",
            "45/45 [==============================] - 5s 113ms/step - loss: 0.0011\n",
            "Epoch 60/100\n",
            "45/45 [==============================] - 5s 114ms/step - loss: 0.0010\n",
            "Epoch 61/100\n",
            "45/45 [==============================] - 5s 113ms/step - loss: 0.0010\n",
            "Epoch 62/100\n",
            "45/45 [==============================] - 5s 115ms/step - loss: 0.0010\n",
            "Epoch 63/100\n",
            "45/45 [==============================] - 5s 115ms/step - loss: 0.0010\n",
            "Epoch 64/100\n",
            "45/45 [==============================] - 5s 114ms/step - loss: 0.0010\n",
            "Epoch 65/100\n",
            "45/45 [==============================] - 5s 115ms/step - loss: 9.2563e-04\n",
            "Epoch 66/100\n",
            "45/45 [==============================] - 5s 114ms/step - loss: 0.0011\n",
            "Epoch 67/100\n",
            "45/45 [==============================] - 6s 135ms/step - loss: 0.0010\n",
            "Epoch 68/100\n",
            "45/45 [==============================] - 5s 113ms/step - loss: 9.2727e-04\n",
            "Epoch 69/100\n",
            "45/45 [==============================] - 5s 114ms/step - loss: 0.0010\n",
            "Epoch 70/100\n",
            "45/45 [==============================] - 5s 112ms/step - loss: 9.2878e-04\n",
            "Epoch 71/100\n",
            "45/45 [==============================] - 5s 113ms/step - loss: 9.4693e-04\n",
            "Epoch 72/100\n",
            "45/45 [==============================] - 5s 112ms/step - loss: 0.0010\n",
            "Epoch 73/100\n",
            "45/45 [==============================] - 5s 113ms/step - loss: 0.0010\n",
            "Epoch 74/100\n",
            "45/45 [==============================] - 5s 114ms/step - loss: 8.9007e-04\n",
            "Epoch 75/100\n",
            "45/45 [==============================] - 5s 113ms/step - loss: 7.7582e-04\n",
            "Epoch 76/100\n",
            "45/45 [==============================] - 5s 114ms/step - loss: 9.1657e-04\n",
            "Epoch 77/100\n",
            "45/45 [==============================] - 5s 113ms/step - loss: 8.3049e-04\n",
            "Epoch 78/100\n",
            "45/45 [==============================] - 5s 114ms/step - loss: 8.2546e-04\n",
            "Epoch 79/100\n",
            "45/45 [==============================] - 5s 115ms/step - loss: 8.9792e-04\n",
            "Epoch 80/100\n",
            "45/45 [==============================] - 5s 115ms/step - loss: 9.0607e-04\n",
            "Epoch 81/100\n",
            "45/45 [==============================] - 5s 115ms/step - loss: 7.7442e-04\n",
            "Epoch 82/100\n",
            "45/45 [==============================] - 5s 113ms/step - loss: 6.9254e-04\n",
            "Epoch 83/100\n",
            "45/45 [==============================] - 5s 113ms/step - loss: 8.2879e-04\n",
            "Epoch 84/100\n",
            "45/45 [==============================] - 5s 112ms/step - loss: 7.7062e-04\n",
            "Epoch 85/100\n",
            "45/45 [==============================] - 5s 112ms/step - loss: 7.6251e-04\n",
            "Epoch 86/100\n",
            "45/45 [==============================] - 5s 112ms/step - loss: 7.4815e-04\n",
            "Epoch 87/100\n",
            "45/45 [==============================] - 5s 114ms/step - loss: 7.2567e-04\n",
            "Epoch 88/100\n",
            "45/45 [==============================] - 5s 114ms/step - loss: 8.5431e-04\n",
            "Epoch 89/100\n",
            "45/45 [==============================] - 5s 113ms/step - loss: 7.8287e-04\n",
            "Epoch 90/100\n",
            "45/45 [==============================] - 5s 113ms/step - loss: 8.2932e-04\n",
            "Epoch 91/100\n",
            "45/45 [==============================] - 5s 113ms/step - loss: 7.9558e-04\n",
            "Epoch 92/100\n",
            "45/45 [==============================] - 5s 112ms/step - loss: 7.9652e-04\n",
            "Epoch 93/100\n",
            "45/45 [==============================] - 5s 115ms/step - loss: 7.6149e-04\n",
            "Epoch 94/100\n",
            "45/45 [==============================] - 6s 123ms/step - loss: 8.7038e-04\n",
            "Epoch 95/100\n",
            "45/45 [==============================] - 6s 123ms/step - loss: 7.7682e-04\n",
            "Epoch 96/100\n",
            "45/45 [==============================] - 5s 113ms/step - loss: 8.4834e-04\n",
            "Epoch 97/100\n",
            "45/45 [==============================] - 5s 114ms/step - loss: 7.5798e-04\n",
            "Epoch 98/100\n",
            "45/45 [==============================] - 5s 113ms/step - loss: 6.7788e-04\n",
            "Epoch 99/100\n",
            "45/45 [==============================] - 5s 112ms/step - loss: 7.4236e-04\n",
            "Epoch 100/100\n",
            "45/45 [==============================] - 5s 113ms/step - loss: 7.4225e-04\n"
          ]
        },
        {
          "output_type": "execute_result",
          "data": {
            "text/plain": [
              "<keras.callbacks.History at 0x7f40a626bb90>"
            ]
          },
          "metadata": {},
          "execution_count": 22
        }
      ]
    },
    {
      "cell_type": "code",
      "source": [
        "testing_set = df.iloc[1473:,:]\n",
        "training_set = df.iloc[:1473,:]"
      ],
      "metadata": {
        "id": "y5gilVEwhdR-"
      },
      "execution_count": 96,
      "outputs": []
    },
    {
      "cell_type": "code",
      "source": [
        "dataset_test=testing_set"
      ],
      "metadata": {
        "id": "wQ6PO4f4grjm"
      },
      "execution_count": 97,
      "outputs": []
    },
    {
      "cell_type": "code",
      "source": [
        "dataset_train= training_set"
      ],
      "metadata": {
        "id": "qL_EgcfYhRhu"
      },
      "execution_count": 98,
      "outputs": []
    },
    {
      "cell_type": "code",
      "source": [
        "dataset_train['Open'].tail(5)"
      ],
      "metadata": {
        "colab": {
          "base_uri": "https://localhost:8080/"
        },
        "id": "XC6N1vZ_hfbG",
        "outputId": "ba4414bb-648b-4f27-96b4-5a3522472f3c"
      },
      "execution_count": 99,
      "outputs": [
        {
          "output_type": "execute_result",
          "data": {
            "text/plain": [
              "1468    210500.0\n",
              "1469    216500.0\n",
              "1470    215000.0\n",
              "1471    213000.0\n",
              "1472    211500.0\n",
              "Name: Open, dtype: float64"
            ]
          },
          "metadata": {},
          "execution_count": 99
        }
      ]
    },
    {
      "cell_type": "code",
      "source": [
        "dataset_test['Open'].head(5)"
      ],
      "metadata": {
        "colab": {
          "base_uri": "https://localhost:8080/"
        },
        "id": "lEaACAvjg_o-",
        "outputId": "409e670b-aad8-466b-e07b-f3ae14a9eca6"
      },
      "execution_count": 100,
      "outputs": [
        {
          "output_type": "execute_result",
          "data": {
            "text/plain": [
              "1473    212500.0\n",
              "1474    214000.0\n",
              "1475    210000.0\n",
              "1476    214500.0\n",
              "1477    214000.0\n",
              "Name: Open, dtype: float64"
            ]
          },
          "metadata": {},
          "execution_count": 100
        }
      ]
    },
    {
      "cell_type": "code",
      "metadata": {
        "id": "emikTvUpk3Ck"
      },
      "source": [
        "dataset_total = pd.concat((dataset_train['Open'], dataset_test['Open']), axis = 0)\n",
        "inputs = dataset_total[len(dataset_total) - len(dataset_test) - 60:].values\n",
        "inputs = inputs.reshape(-1,1)\n",
        "inputs = sc.transform(inputs)"
      ],
      "execution_count": 101,
      "outputs": []
    },
    {
      "cell_type": "code",
      "source": [
        "X_test = []\n",
        "for i in range(60, 184):\n",
        "    X_test.append(inputs[i-60:i, 0])\n",
        "X_test = np.array(X_test)\n",
        "X_test = np.reshape(X_test, (X_test.shape[0], X_test.shape[1], 1))\n",
        "predicted_stock_price = regressor.predict(X_test)\n",
        "predicted_stock_price = sc.inverse_transform(predicted_stock_price)"
      ],
      "metadata": {
        "id": "hOWa0AmcntTc"
      },
      "execution_count": 102,
      "outputs": []
    },
    {
      "cell_type": "code",
      "source": [
        "X_test.shape"
      ],
      "metadata": {
        "colab": {
          "base_uri": "https://localhost:8080/"
        },
        "id": "lwpDS7bup8gU",
        "outputId": "bc35befe-a221-473f-da87-db319f04baf5"
      },
      "execution_count": 103,
      "outputs": [
        {
          "output_type": "execute_result",
          "data": {
            "text/plain": [
              "(124, 60, 1)"
            ]
          },
          "metadata": {},
          "execution_count": 103
        }
      ]
    },
    {
      "cell_type": "code",
      "source": [
        "real_stock_price = dataset_test.iloc[:, 2:3].values"
      ],
      "metadata": {
        "id": "DdvCD-1Whqfe"
      },
      "execution_count": 104,
      "outputs": []
    },
    {
      "cell_type": "code",
      "source": [
        "predicted_stock_price.shape"
      ],
      "metadata": {
        "colab": {
          "base_uri": "https://localhost:8080/"
        },
        "id": "tv4MPxv0qMPj",
        "outputId": "b2ddd3d1-3669-47f3-d9b1-c313967c51a3"
      },
      "execution_count": 105,
      "outputs": [
        {
          "output_type": "execute_result",
          "data": {
            "text/plain": [
              "(124, 1)"
            ]
          },
          "metadata": {},
          "execution_count": 105
        }
      ]
    },
    {
      "cell_type": "code",
      "source": [
        "real_stock_price.shape"
      ],
      "metadata": {
        "colab": {
          "base_uri": "https://localhost:8080/"
        },
        "id": "YHsKBQdXqG1z",
        "outputId": "490e5011-de1b-460d-c6db-6a4a992ab300"
      },
      "execution_count": 106,
      "outputs": [
        {
          "output_type": "execute_result",
          "data": {
            "text/plain": [
              "(124, 1)"
            ]
          },
          "metadata": {},
          "execution_count": 106
        }
      ]
    },
    {
      "cell_type": "code",
      "source": [
        "dataset_test=dataset_test.set_index('Date')"
      ],
      "metadata": {
        "id": "fDJJIcjLrsQT"
      },
      "execution_count": 107,
      "outputs": []
    },
    {
      "cell_type": "code",
      "source": [
        "df2=dataset_test"
      ],
      "metadata": {
        "id": "9v1PmZkEcd7Z"
      },
      "execution_count": 108,
      "outputs": []
    },
    {
      "cell_type": "code",
      "source": [
        "df2['pred']=real_stock_price"
      ],
      "metadata": {
        "id": "JbZUTcQ3r1AT"
      },
      "execution_count": 109,
      "outputs": []
    },
    {
      "cell_type": "code",
      "source": [
        "df2=df2.reset_index()"
      ],
      "metadata": {
        "id": "oPVDjOjmcseQ"
      },
      "execution_count": 111,
      "outputs": []
    },
    {
      "cell_type": "code",
      "source": [
        "df2['Date']=pd.to_datetime(df2['Date'],infer_datetime_format=True)"
      ],
      "metadata": {
        "id": "N8Dvg2B4Z05t"
      },
      "execution_count": 112,
      "outputs": []
    },
    {
      "cell_type": "code",
      "source": [
        "df2=df2.set_index('Date')"
      ],
      "metadata": {
        "id": "pA7DyYlaZ80Z"
      },
      "execution_count": 113,
      "outputs": []
    },
    {
      "cell_type": "code",
      "source": [
        "df2.head(5)"
      ],
      "metadata": {
        "colab": {
          "base_uri": "https://localhost:8080/",
          "height": 237
        },
        "id": "RZ4FmUD7s5kS",
        "outputId": "263c76ab-1b0d-41fe-85a2-23eef49c4546"
      },
      "execution_count": 114,
      "outputs": [
        {
          "output_type": "execute_result",
          "data": {
            "text/plain": [
              "                Open      High       Low     Close  Adj Close   Volume  \\\n",
              "Date                                                                     \n",
              "2022-01-04  212500.0  212500.0  208500.0  210000.0   210000.0   499857   \n",
              "2022-01-05  214000.0  217500.0  212000.0  213500.0   213500.0  1175411   \n",
              "2022-01-06  210000.0  216500.0  210000.0  214000.0   214000.0   866582   \n",
              "2022-01-07  214500.0  216500.0  213500.0  215000.0   215000.0   577852   \n",
              "2022-01-10  214000.0  215000.0  209000.0  209500.0   209500.0   744261   \n",
              "\n",
              "                pred  \n",
              "Date                  \n",
              "2022-01-04  212500.0  \n",
              "2022-01-05  217500.0  \n",
              "2022-01-06  216500.0  \n",
              "2022-01-07  216500.0  \n",
              "2022-01-10  215000.0  "
            ],
            "text/html": [
              "\n",
              "  <div id=\"df-2ea05853-76cd-496c-aa07-78fa7e80e6fb\">\n",
              "    <div class=\"colab-df-container\">\n",
              "      <div>\n",
              "<style scoped>\n",
              "    .dataframe tbody tr th:only-of-type {\n",
              "        vertical-align: middle;\n",
              "    }\n",
              "\n",
              "    .dataframe tbody tr th {\n",
              "        vertical-align: top;\n",
              "    }\n",
              "\n",
              "    .dataframe thead th {\n",
              "        text-align: right;\n",
              "    }\n",
              "</style>\n",
              "<table border=\"1\" class=\"dataframe\">\n",
              "  <thead>\n",
              "    <tr style=\"text-align: right;\">\n",
              "      <th></th>\n",
              "      <th>Open</th>\n",
              "      <th>High</th>\n",
              "      <th>Low</th>\n",
              "      <th>Close</th>\n",
              "      <th>Adj Close</th>\n",
              "      <th>Volume</th>\n",
              "      <th>pred</th>\n",
              "    </tr>\n",
              "    <tr>\n",
              "      <th>Date</th>\n",
              "      <th></th>\n",
              "      <th></th>\n",
              "      <th></th>\n",
              "      <th></th>\n",
              "      <th></th>\n",
              "      <th></th>\n",
              "      <th></th>\n",
              "    </tr>\n",
              "  </thead>\n",
              "  <tbody>\n",
              "    <tr>\n",
              "      <th>2022-01-04</th>\n",
              "      <td>212500.0</td>\n",
              "      <td>212500.0</td>\n",
              "      <td>208500.0</td>\n",
              "      <td>210000.0</td>\n",
              "      <td>210000.0</td>\n",
              "      <td>499857</td>\n",
              "      <td>212500.0</td>\n",
              "    </tr>\n",
              "    <tr>\n",
              "      <th>2022-01-05</th>\n",
              "      <td>214000.0</td>\n",
              "      <td>217500.0</td>\n",
              "      <td>212000.0</td>\n",
              "      <td>213500.0</td>\n",
              "      <td>213500.0</td>\n",
              "      <td>1175411</td>\n",
              "      <td>217500.0</td>\n",
              "    </tr>\n",
              "    <tr>\n",
              "      <th>2022-01-06</th>\n",
              "      <td>210000.0</td>\n",
              "      <td>216500.0</td>\n",
              "      <td>210000.0</td>\n",
              "      <td>214000.0</td>\n",
              "      <td>214000.0</td>\n",
              "      <td>866582</td>\n",
              "      <td>216500.0</td>\n",
              "    </tr>\n",
              "    <tr>\n",
              "      <th>2022-01-07</th>\n",
              "      <td>214500.0</td>\n",
              "      <td>216500.0</td>\n",
              "      <td>213500.0</td>\n",
              "      <td>215000.0</td>\n",
              "      <td>215000.0</td>\n",
              "      <td>577852</td>\n",
              "      <td>216500.0</td>\n",
              "    </tr>\n",
              "    <tr>\n",
              "      <th>2022-01-10</th>\n",
              "      <td>214000.0</td>\n",
              "      <td>215000.0</td>\n",
              "      <td>209000.0</td>\n",
              "      <td>209500.0</td>\n",
              "      <td>209500.0</td>\n",
              "      <td>744261</td>\n",
              "      <td>215000.0</td>\n",
              "    </tr>\n",
              "  </tbody>\n",
              "</table>\n",
              "</div>\n",
              "      <button class=\"colab-df-convert\" onclick=\"convertToInteractive('df-2ea05853-76cd-496c-aa07-78fa7e80e6fb')\"\n",
              "              title=\"Convert this dataframe to an interactive table.\"\n",
              "              style=\"display:none;\">\n",
              "        \n",
              "  <svg xmlns=\"http://www.w3.org/2000/svg\" height=\"24px\"viewBox=\"0 0 24 24\"\n",
              "       width=\"24px\">\n",
              "    <path d=\"M0 0h24v24H0V0z\" fill=\"none\"/>\n",
              "    <path d=\"M18.56 5.44l.94 2.06.94-2.06 2.06-.94-2.06-.94-.94-2.06-.94 2.06-2.06.94zm-11 1L8.5 8.5l.94-2.06 2.06-.94-2.06-.94L8.5 2.5l-.94 2.06-2.06.94zm10 10l.94 2.06.94-2.06 2.06-.94-2.06-.94-.94-2.06-.94 2.06-2.06.94z\"/><path d=\"M17.41 7.96l-1.37-1.37c-.4-.4-.92-.59-1.43-.59-.52 0-1.04.2-1.43.59L10.3 9.45l-7.72 7.72c-.78.78-.78 2.05 0 2.83L4 21.41c.39.39.9.59 1.41.59.51 0 1.02-.2 1.41-.59l7.78-7.78 2.81-2.81c.8-.78.8-2.07 0-2.86zM5.41 20L4 18.59l7.72-7.72 1.47 1.35L5.41 20z\"/>\n",
              "  </svg>\n",
              "      </button>\n",
              "      \n",
              "  <style>\n",
              "    .colab-df-container {\n",
              "      display:flex;\n",
              "      flex-wrap:wrap;\n",
              "      gap: 12px;\n",
              "    }\n",
              "\n",
              "    .colab-df-convert {\n",
              "      background-color: #E8F0FE;\n",
              "      border: none;\n",
              "      border-radius: 50%;\n",
              "      cursor: pointer;\n",
              "      display: none;\n",
              "      fill: #1967D2;\n",
              "      height: 32px;\n",
              "      padding: 0 0 0 0;\n",
              "      width: 32px;\n",
              "    }\n",
              "\n",
              "    .colab-df-convert:hover {\n",
              "      background-color: #E2EBFA;\n",
              "      box-shadow: 0px 1px 2px rgba(60, 64, 67, 0.3), 0px 1px 3px 1px rgba(60, 64, 67, 0.15);\n",
              "      fill: #174EA6;\n",
              "    }\n",
              "\n",
              "    [theme=dark] .colab-df-convert {\n",
              "      background-color: #3B4455;\n",
              "      fill: #D2E3FC;\n",
              "    }\n",
              "\n",
              "    [theme=dark] .colab-df-convert:hover {\n",
              "      background-color: #434B5C;\n",
              "      box-shadow: 0px 1px 3px 1px rgba(0, 0, 0, 0.15);\n",
              "      filter: drop-shadow(0px 1px 2px rgba(0, 0, 0, 0.3));\n",
              "      fill: #FFFFFF;\n",
              "    }\n",
              "  </style>\n",
              "\n",
              "      <script>\n",
              "        const buttonEl =\n",
              "          document.querySelector('#df-2ea05853-76cd-496c-aa07-78fa7e80e6fb button.colab-df-convert');\n",
              "        buttonEl.style.display =\n",
              "          google.colab.kernel.accessAllowed ? 'block' : 'none';\n",
              "\n",
              "        async function convertToInteractive(key) {\n",
              "          const element = document.querySelector('#df-2ea05853-76cd-496c-aa07-78fa7e80e6fb');\n",
              "          const dataTable =\n",
              "            await google.colab.kernel.invokeFunction('convertToInteractive',\n",
              "                                                     [key], {});\n",
              "          if (!dataTable) return;\n",
              "\n",
              "          const docLinkHtml = 'Like what you see? Visit the ' +\n",
              "            '<a target=\"_blank\" href=https://colab.research.google.com/notebooks/data_table.ipynb>data table notebook</a>'\n",
              "            + ' to learn more about interactive tables.';\n",
              "          element.innerHTML = '';\n",
              "          dataTable['output_type'] = 'display_data';\n",
              "          await google.colab.output.renderOutput(dataTable, element);\n",
              "          const docLink = document.createElement('div');\n",
              "          docLink.innerHTML = docLinkHtml;\n",
              "          element.appendChild(docLink);\n",
              "        }\n",
              "      </script>\n",
              "    </div>\n",
              "  </div>\n",
              "  "
            ]
          },
          "metadata": {},
          "execution_count": 114
        }
      ]
    },
    {
      "cell_type": "code",
      "source": [
        "y_true=df2['Open']"
      ],
      "metadata": {
        "id": "Zost-7xDtApT"
      },
      "execution_count": 115,
      "outputs": []
    },
    {
      "cell_type": "code",
      "source": [
        "y_pred=df2['pred']"
      ],
      "metadata": {
        "id": "ThKePr--sR3q"
      },
      "execution_count": 116,
      "outputs": []
    },
    {
      "cell_type": "code",
      "source": [
        "y_true"
      ],
      "metadata": {
        "colab": {
          "base_uri": "https://localhost:8080/"
        },
        "id": "arpWBAcvsi47",
        "outputId": "87b0df7e-5fdc-44b9-e71f-bbcb7eec6b39"
      },
      "execution_count": 117,
      "outputs": [
        {
          "output_type": "execute_result",
          "data": {
            "text/plain": [
              "Date\n",
              "2022-01-04    212500.0\n",
              "2022-01-05    214000.0\n",
              "2022-01-06    210000.0\n",
              "2022-01-07    214500.0\n",
              "2022-01-10    214000.0\n",
              "                ...   \n",
              "2022-07-01    181500.0\n",
              "2022-07-04    181000.0\n",
              "2022-07-05    180000.0\n",
              "2022-07-06    176000.0\n",
              "2022-07-07    175000.0\n",
              "Name: Open, Length: 124, dtype: float64"
            ]
          },
          "metadata": {},
          "execution_count": 117
        }
      ]
    },
    {
      "cell_type": "code",
      "source": [
        "plt.plot(y_true, color = 'red', label = 'Real Google Stock Price')\n",
        "plt.show()"
      ],
      "metadata": {
        "colab": {
          "base_uri": "https://localhost:8080/",
          "height": 265
        },
        "id": "yIJZafvzt6ty",
        "outputId": "39878798-edfd-4bfe-c60c-72a942b7de93"
      },
      "execution_count": 118,
      "outputs": [
        {
          "output_type": "display_data",
          "data": {
            "text/plain": [
              "<Figure size 432x288 with 1 Axes>"
            ],
            "image/png": "[encoded data removed]"
          },
          "metadata": {
            "needs_background": "light"
          }
        }
      ]
    },
    {
      "cell_type": "code",
      "source": [
        "plt.plot(y_pred, color = 'blue', label = 'Predicted Google Stock Price')\n",
        "plt.show()"
      ],
      "metadata": {
        "colab": {
          "base_uri": "https://localhost:8080/",
          "height": 269
        },
        "id": "BFnMIO5AaJEs",
        "outputId": "775d4490-32a0-446b-efdf-5979f2ea8475"
      },
      "execution_count": 119,
      "outputs": [
        {
          "output_type": "display_data",
          "data": {
            "text/plain": [
              "<Figure size 432x288 with 1 Axes>"
            ],
            "image/png": "[encoded data removed]"
          },
          "metadata": {
            "needs_background": "light"
          }
        }
      ]
    },
    {
      "cell_type": "code",
      "source": [
        "plt.plot(y_true, color = 'red', label = 'Real Hyundai Stock Price')\n",
        "plt.plot(y_pred, color = 'blue', label = 'Predicted Hyundai Stock Price')\n",
        "plt.title('Hyundai Stock Price Prediction')\n",
        "plt.xlabel('Time')\n",
        "plt.ylabel('Hyundai Stock Price')\n",
        "plt.legend()\n",
        "plt.show()"
      ],
      "metadata": {
        "colab": {
          "base_uri": "https://localhost:8080/",
          "height": 295
        },
        "id": "b6-neYEDsWsZ",
        "outputId": "dd41cd4c-dbf8-4eeb-c2fc-5e5d8b2d5035"
      },
      "execution_count": 121,
      "outputs": [
        {
          "output_type": "display_data",
          "data": {
            "text/plain": [
              "<Figure size 432x288 with 1 Axes>"
            ],
            "image/png": "[encoded data removed]"
          },
          "metadata": {
            "needs_background": "light"
          }
        }
      ]
    }
  ]
}